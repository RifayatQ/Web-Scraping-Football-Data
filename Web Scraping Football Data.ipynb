{
 "cells": [
  {
   "cell_type": "code",
   "execution_count": 23,
   "id": "537e4d6b",
   "metadata": {},
   "outputs": [
    {
     "name": "stderr",
     "output_type": "stream",
     "text": [
      "C:\\Users\\rifay\\AppData\\Local\\Temp/ipykernel_18560/3188517711.py:8: DeprecationWarning: executable_path has been deprecated, please pass in a Service object\n",
      "  driver = webdriver.Chrome(path)\n",
      "C:\\Users\\rifay\\AppData\\Local\\Temp/ipykernel_18560/3188517711.py:11: DeprecationWarning: find_element_by_* commands are deprecated. Please use find_element() instead\n",
      "  all_matches_button = driver.find_element_by_xpath('//label[@analytics-event=\"All matches\"]')\n",
      "C:\\Users\\rifay\\AppData\\Local\\Temp/ipykernel_18560/3188517711.py:14: DeprecationWarning: find_element_by_* commands are deprecated. Please use find_element() instead\n",
      "  dropdown = Select(driver.find_element_by_id('country'))\n",
      "C:\\Users\\rifay\\AppData\\Local\\Temp/ipykernel_18560/3188517711.py:18: DeprecationWarning: find_elements_by_* commands are deprecated. Please use find_elements() instead\n",
      "  matches = driver.find_elements_by_tag_name('tr')\n",
      "C:\\ProgramData\\Anaconda3\\lib\\site-packages\\selenium\\webdriver\\remote\\webelement.py:393: UserWarning: find_element_by_* commands are deprecated. Please use find_element() instead\n",
      "  warnings.warn(\"find_element_by_* commands are deprecated. Please use find_element() instead\")\n"
     ]
    },
    {
     "name": "stdout",
     "output_type": "stream",
     "text": [
      "           date      home_team  score    away_team\n",
      "0    14-08-2021       Augsburg  0 - 4   Hoffenheim\n",
      "1    21-08-2021  Ein Frankfurt  0 - 0     Augsburg\n",
      "2    28-08-2021       Augsburg  1 - 4   Leverkusen\n",
      "3    11-09-2021   Union Berlin  0 - 0     Augsburg\n",
      "4    18-09-2021       Augsburg  1 - 0  M''gladbach\n",
      "..          ...            ...    ...          ...\n",
      "355  14-12-2021      Wolfsburg  2 - 3      FC Koln\n",
      "356  17-12-2021  Bayern Munich  4 - 0    Wolfsburg\n",
      "357  09-01-2022         Bochum  1 - 0    Wolfsburg\n",
      "358  15-01-2022      Wolfsburg  0 - 0       Hertha\n",
      "359  23-01-2022     RB Leipzig  ? - ?    Wolfsburg\n",
      "\n",
      "[360 rows x 4 columns]\n"
     ]
    }
   ],
   "source": [
    "from selenium import webdriver\n",
    "from selenium.webdriver.support.ui import Select\n",
    "import pandas as pd\n",
    "import time\n",
    "\n",
    "website = 'https://www.adamchoi.co.uk/teamgoals/detailed'\n",
    "path = r\"C:\\Users\\rifay\\Downloads\\chromedriver\\chromedriver.exe\"\n",
    "driver = webdriver.Chrome(path)\n",
    "driver.get(website)\n",
    "\n",
    "all_matches_button = driver.find_element_by_xpath('//label[@analytics-event=\"All matches\"]')\n",
    "all_matches_button.click()\n",
    "\n",
    "dropdown = Select(driver.find_element_by_id('country'))\n",
    "dropdown.select_by_visible_text('Germany')\n",
    "time.sleep(3)\n",
    "\n",
    "matches = driver.find_elements_by_tag_name('tr')\n",
    "\n",
    "date = []\n",
    "home_team = []\n",
    "score = []\n",
    "away_team = []\n",
    "\n",
    "for match in matches:\n",
    "    date.append(match.find_element_by_xpath('./td[1]').text)\n",
    "    home_team.append(match.find_element_by_xpath('./td[2]').text)\n",
    "    score.append(match.find_element_by_xpath('./td[3]').text)\n",
    "    away_team.append(match.find_element_by_xpath('./td[4]').text)\n",
    "driver.quit()\n",
    "\n",
    "df = pd.DataFrame({'date': date, 'home_team': home_team, 'score': score, 'away_team': away_team})\n",
    "df.to_excel('football_data.xlsx', index=False)\n",
    "print(df)\n",
    "\n",
    "\n",
    "\n",
    "\n",
    "\n",
    "\n",
    "\n"
   ]
  },
  {
   "cell_type": "code",
   "execution_count": null,
   "id": "9069f8ce",
   "metadata": {},
   "outputs": [],
   "source": []
  },
  {
   "cell_type": "code",
   "execution_count": null,
   "id": "3cc0c6d5",
   "metadata": {},
   "outputs": [],
   "source": []
  }
 ],
 "metadata": {
  "kernelspec": {
   "display_name": "Python 3 (ipykernel)",
   "language": "python",
   "name": "python3"
  },
  "language_info": {
   "codemirror_mode": {
    "name": "ipython",
    "version": 3
   },
   "file_extension": ".py",
   "mimetype": "text/x-python",
   "name": "python",
   "nbconvert_exporter": "python",
   "pygments_lexer": "ipython3",
   "version": "3.9.7"
  }
 },
 "nbformat": 4,
 "nbformat_minor": 5
}
